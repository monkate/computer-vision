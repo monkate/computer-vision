{
 "cells": [
  {
   "cell_type": "markdown",
   "metadata": {},
   "source": [
    "# Assignment 7: Backpropagation\n",
    "Read the Rojas book (https://page.mi.fu-berlin.de/rojas/neural/neuron.pdf), chapter 7.3.3 and learn about the \"matrix way\" of implementing backprop. \n",
    "\n",
    "## Ex. 7.1 XOR\n",
    "Implement a two-layer artificial neural network with two input neurons and one output neuron. Choose the number of hidden neurons to your liking and add an error \"neuron\" to your network. Our goal is to learn the XOR function. What does the network return for random weights of all combinations of (binary) inputs? **(RESULT)**"
   ]
  },
  {
   "cell_type": "code",
   "execution_count": 2,
   "metadata": {},
   "outputs": [],
   "source": [
    "import numpy as np\n",
    "from random import random, uniform\n",
    "from collections import defaultdict"
   ]
  },
  {
   "cell_type": "code",
   "execution_count": 110,
   "metadata": {},
   "outputs": [],
   "source": [
    "%matplotlib inline \n",
    "import matplotlib.pyplot as plt"
   ]
  },
  {
   "cell_type": "code",
   "execution_count": 3,
   "metadata": {},
   "outputs": [],
   "source": [
    "def sigmoid(x):\n",
    "    return 1/(1+np.exp(-x))"
   ]
  },
  {
   "cell_type": "code",
   "execution_count": 46,
   "metadata": {},
   "outputs": [],
   "source": [
    "def feed_forward(x,  w1, w2, w12, w21, w11, w22):\n",
    "    h1 = sigmoid(w11*x[0] + w21*x[1] + b1)\n",
    "    h2 = sigmoid(w12*x[0] + w22*x[1] + b2)\n",
    "    ynn = sigmoid(w1*h1 + w2*h2 + b)\n",
    "    return h1, h2, ynn"
   ]
  },
  {
   "cell_type": "code",
   "execution_count": 32,
   "metadata": {},
   "outputs": [],
   "source": [
    "def error(yn, y):\n",
    "    return 1/2*(yn - y)**2"
   ]
  },
  {
   "cell_type": "code",
   "execution_count": 33,
   "metadata": {},
   "outputs": [],
   "source": [
    "yy = defaultdict(list)\n",
    "yy[(0,0)].append(0)\n",
    "yy[(1,1)].append(0)\n",
    "yy[(0,1)].append(1)\n",
    "yy[(1,0)].append(1)"
   ]
  },
  {
   "cell_type": "markdown",
   "metadata": {},
   "source": [
    "Errors of network with 2 hidden neurons for random weights of all combinations of inputs."
   ]
  },
  {
   "cell_type": "code",
   "execution_count": 47,
   "metadata": {},
   "outputs": [
    {
     "name": "stdout",
     "output_type": "stream",
     "text": [
      "( 0 , 0 ) Error: 0.22118324161319947\n",
      "( 1 , 1 ) Error: 0.22369067325516026\n",
      "( 0 , 1 ) Error: 0.024236741474791962\n",
      "( 1 , 0 ) Error: 0.035092060673498605\n"
     ]
    }
   ],
   "source": [
    "b1 = uniform(-20, 20)\n",
    "b2 = uniform(-20, 20)\n",
    "b = uniform(-20, 20)\n",
    "for x in yy.keys():\n",
    "    print('(',x[0],\",\", x[1], \")\", \"Error:\", error(feed_forward(x, random(), random(), \n",
    "        random(), random(), random(), random())[2], yy[x][0]))"
   ]
  },
  {
   "cell_type": "markdown",
   "metadata": {},
   "source": [
    "## Ex. 7.2 Backpropagation\n",
    "Implement Backpropagation and optimize the weights of your neural network using the XOR training set: \n",
    "\n",
    "#### x, y\n",
    "\n",
    "(0,0), 0 \n",
    "\n",
    "(0,1), 1\n",
    "\n",
    "(1,0), 1\n",
    "\n",
    "(1,1), 0\n",
    "\n",
    "How many training iterations do you need? Plot the network error over the number of iterations! **(RESULT)**"
   ]
  },
  {
   "cell_type": "code",
   "execution_count": 29,
   "metadata": {},
   "outputs": [],
   "source": [
    "def delta_2(ynn, y):\n",
    "    return ynn*(1-ynn)*(ynn-y)"
   ]
  },
  {
   "cell_type": "code",
   "execution_count": 30,
   "metadata": {},
   "outputs": [],
   "source": [
    "def delta_1(h, w, d):\n",
    "    return h*(1-h)*w*d"
   ]
  },
  {
   "cell_type": "code",
   "execution_count": 115,
   "metadata": {},
   "outputs": [],
   "source": [
    "def backpropagation(x,  w1, w2, w12, w21, w11, w22):\n",
    "    l = 0.1\n",
    "    w = [w1, w2]\n",
    "    eynn = []\n",
    "    eh = []\n",
    "    for i in range(2):\n",
    "        eynn.append(feed_forward(x,  w1, w2, w12, w21, w11, w22)[i]*\n",
    "                    delta_2(feed_forward(x,  w1, w2, w12, w21, w11, w22)[2], yy[(x[0],x[1])]))\n",
    "        eh.append(x[i]*delta_1(feed_forward(x,  w1, w2, w12, w21, w11, w22)[i], w[i], \n",
    "                               delta_2(feed_forward(x,  w1, w2, w12, w21, w11, w22)[2], yy[(x[0],x[1])])))\n",
    "    \n",
    "    w1 -= l*eynn[0]\n",
    "    w2 -= l*eynn[1]\n",
    "    w11 -= l*eh[0]\n",
    "    w12 -= l*eh[0]\n",
    "    w21 -= l*eh[1]\n",
    "    w22 -= l*eh[1]\n",
    "    return w1, w2, w11, w12, w21, w22"
   ]
  },
  {
   "cell_type": "code",
   "execution_count": 116,
   "metadata": {},
   "outputs": [],
   "source": [
    "def neural_network(n):\n",
    "    w1 = random()\n",
    "    w2 = random()\n",
    "    w12 = random()\n",
    "    w21 = random()\n",
    "    w11 = random()\n",
    "    w22 = random()\n",
    "    for i in range(n):\n",
    "        ee = []\n",
    "        for x in yy.keys():\n",
    "            w1, w2, w12, w21, w11, w22 = backpropagation(x, w1, w2, w12, w21, w11, w22)\n",
    "            ee.append(error(feed_forward(x, w1, w2, w12, w21, w11, w22)[2], yy[(x[0],x[1])]))\n",
    "        e = np.mean(ee)\n",
    "    for x in yy.keys():\n",
    "        print('(',x[0],',', x[1], '):', feed_forward(x, w1, w2, w12, w21, w11, w22)[2])\n",
    "    return e"
   ]
  },
  {
   "cell_type": "code",
   "execution_count": 118,
   "metadata": {},
   "outputs": [
    {
     "name": "stdout",
     "output_type": "stream",
     "text": [
      "( 0 , 0 ): [0.50314216]\n",
      "( 1 , 1 ): [0.50313186]\n",
      "( 0 , 1 ): [0.5031394]\n",
      "( 1 , 0 ): [0.50313312]\n"
     ]
    },
    {
     "data": {
      "text/plain": [
       "0.1242175725994498"
      ]
     },
     "execution_count": 118,
     "metadata": {},
     "output_type": "execute_result"
    }
   ],
   "source": [
    "neural_network(1000)"
   ]
  },
  {
   "cell_type": "code",
   "execution_count": 119,
   "metadata": {},
   "outputs": [
    {
     "name": "stdout",
     "output_type": "stream",
     "text": [
      "( 0 , 0 ): [0.775132]\n",
      "( 1 , 1 ): [0.7751383]\n",
      "( 0 , 1 ): [0.77513264]\n",
      "( 1 , 0 ): [0.77513796]\n",
      "( 0 , 0 ): [0.78587029]\n",
      "( 1 , 1 ): [0.78587842]\n",
      "( 0 , 1 ): [0.78587623]\n",
      "( 1 , 0 ): [0.78587424]\n",
      "( 0 , 0 ): [0.67751426]\n",
      "( 1 , 1 ): [0.6775166]\n",
      "( 0 , 1 ): [0.67751635]\n",
      "( 1 , 0 ): [0.67751488]\n",
      "( 0 , 0 ): [0.73256114]\n",
      "( 1 , 1 ): [0.73256674]\n",
      "( 0 , 1 ): [0.73256668]\n",
      "( 1 , 0 ): [0.73256129]\n",
      "( 0 , 0 ): [0.53105662]\n",
      "( 1 , 1 ): [0.53105226]\n",
      "( 0 , 1 ): [0.53105332]\n",
      "( 1 , 0 ): [0.53105522]\n",
      "( 0 , 0 ): [0.50314548]\n",
      "( 1 , 1 ): [0.50313282]\n",
      "( 0 , 1 ): [0.50313883]\n",
      "( 1 , 0 ): [0.50313552]\n",
      "( 0 , 0 ): [0.50314148]\n",
      "( 1 , 1 ): [0.50312798]\n",
      "( 0 , 1 ): [0.50313177]\n",
      "( 1 , 0 ): [0.50313247]\n"
     ]
    }
   ],
   "source": [
    "it = [1, 2, 5, 10, 100, 1000, 100000]\n",
    "nn = []\n",
    "for n in it:\n",
    "    nn.append(neural_network(n))"
   ]
  },
  {
   "cell_type": "code",
   "execution_count": 120,
   "metadata": {},
   "outputs": [
    {
     "data": {
      "image/png": "[encoded data removed]",
      "text/plain": [
       "<Figure size 432x288 with 1 Axes>"
      ]
     },
     "metadata": {
      "needs_background": "light"
     },
     "output_type": "display_data"
    }
   ],
   "source": [
    "plt.plot(it, nn)\n",
    "plt.show()"
   ]
  },
  {
   "cell_type": "markdown",
   "metadata": {},
   "source": [
    "## Ex. 7.3 MNIST (BONUS)\n",
    "Train your network on the [MNIST dataset](http://yann.lecun.com/exdb/mnist/) and state the model accuracy (or the model error) for the training and test sets. **(RESULT)** Compare to this [list](https://rodrigob.github.io/are_we_there_yet/build/classification_datasets_results.html#4d4e495354)\n"
   ]
  },
  {
   "cell_type": "code",
   "execution_count": null,
   "metadata": {},
   "outputs": [],
   "source": []
  }
 ],
 "metadata": {
  "kernelspec": {
   "display_name": "Python 3",
   "language": "python",
   "name": "python3"
  },
  "language_info": {
   "codemirror_mode": {
    "name": "ipython",
    "version": 3
   },
   "file_extension": ".py",
   "mimetype": "text/x-python",
   "name": "python",
   "nbconvert_exporter": "python",
   "pygments_lexer": "ipython3",
   "version": "3.7.4"
  }
 },
 "nbformat": 4,
 "nbformat_minor": 2
}
